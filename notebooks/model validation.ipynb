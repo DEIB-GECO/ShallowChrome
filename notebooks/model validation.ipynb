{
 "cells": [
  {
   "cell_type": "markdown",
   "metadata": {},
   "source": [
    "# Validation: comparison with _ChromHMM_ emissions"
   ]
  },
  {
   "cell_type": "markdown",
   "metadata": {},
   "source": [
    "### Imports and paths"
   ]
  },
  {
   "cell_type": "code",
   "execution_count": null,
   "metadata": {},
   "outputs": [],
   "source": [
    "## imports\n",
    "\n",
    "import numpy as np\n",
    "import pickle\n",
    "import os\n",
    "from utils import *\n",
    "from scipy.stats import pearsonr\n",
    "rho = pearsonr"
   ]
  },
  {
   "cell_type": "code",
   "execution_count": null,
   "metadata": {},
   "outputs": [],
   "source": [
    "## paths\n",
    "\n",
    "root_path = './../'\n",
    "\n",
    "# path to data, random splits, cell list\n",
    "data_base_path = root_path+'data/'\n",
    "split_base_path = data_base_path+'- splits/'\n",
    "cell_list_path = data_base_path+'cells.csv'\n",
    "name_base_path = data_base_path+'names.csv'\n",
    "emission_path = data_base_path+'chromhmm/'+'emissions.tab'\n",
    "color_path = data_base_path+'chromhmm/'+'states_colors.tab'\n",
    "\n",
    "# path to folder where to write/read results\n",
    "score_base_path = root_path+'scores/'\n",
    "bests_path = score_base_path+'bests_{}.pkl'\n",
    "\n",
    "# suffixes\n",
    "data_suffix = ''\n",
    "split_suffix = 'iteration_'\n",
    "X_tail = 'X.csv'\n",
    "T_tail = 'T.csv'"
   ]
  },
  {
   "cell_type": "markdown",
   "metadata": {},
   "source": [
    "### Load and inspect _ChromHMM_ emission patterns"
   ]
  },
  {
   "cell_type": "code",
   "execution_count": null,
   "metadata": {},
   "outputs": [],
   "source": [
    "# extract emissions\n",
    "emissions, hm_index, hs_index = extract_emissions(emission_path)\n",
    "\n",
    "# sort them according to our ordering\n",
    "names = np.loadtxt(name_base_path, delimiter=',', dtype=str)\n",
    "sorted_revindex = {names[n]: n for n in range(len(names))}\n",
    "sorter = np.zeros(len(names), dtype=int)\n",
    "for n in range(len(hm_index)):\n",
    "    hm = hm_index[n]\n",
    "    new_n = sorted_revindex[hm]\n",
    "    sorter[new_n] = n\n",
    "sorted_emissions = emissions.T[sorter]\n",
    "\n",
    "# extract colors and state descriptions\n",
    "index, description_dict, color_dict = extract_states_colors(color_path)"
   ]
  },
  {
   "cell_type": "markdown",
   "metadata": {},
   "source": [
    "Let's plot here _ChromHMM_ emission patterns together."
   ]
  },
  {
   "cell_type": "code",
   "execution_count": null,
   "metadata": {},
   "outputs": [],
   "source": [
    "# plot them\n",
    "states = np.asarray([description_dict[name] for name in [index[s] for s in range(1, len(index)+1)]], dtype=str)\n",
    "plt.figure(dpi=100, figsize=(6, 2))\n",
    "plt.imshow(sorted_emissions)\n",
    "plt.title('emission patterns')\n",
    "plt.yticks(range(len(names)), names, rotation=0)\n",
    "plt.xticks(range(len(hs_index)), states, rotation=90)\n",
    "plt.show()\n",
    "plt.close()"
   ]
  },
  {
   "cell_type": "markdown",
   "metadata": {},
   "source": [
    "Let's take a look at each pattern separately"
   ]
  },
  {
   "cell_type": "code",
   "execution_count": null,
   "metadata": {
    "scrolled": false
   },
   "outputs": [],
   "source": [
    "# plot each emission pattern separately for deeper inspection\n",
    "min_val = sorted_emissions.min()\n",
    "max_val = sorted_emissions.max()\n",
    "for p, pattern in enumerate(sorted_emissions.T):\n",
    "    name = index[p+1]\n",
    "    color = color_dict[name]\n",
    "    if p == sorted_emissions.shape[1] - 1:\n",
    "        color = [channel - 0.1 for channel in color]\n",
    "    x = np.arange(1, sorted_emissions.shape[0]+1)\n",
    "    plt.figure(dpi=100, figsize=(6,2))\n",
    "    plt.bar(x, pattern, color=color)\n",
    "    plt.ylim([min_val - 0.1, max_val + 0.1])\n",
    "    plt.xticks(x, names, rotation=90)\n",
    "    plt.title(description_dict[name])\n",
    "    plt.show()\n",
    "    plt.close()"
   ]
  },
  {
   "cell_type": "markdown",
   "metadata": {},
   "source": [
    "In the following, we are going to match _ShallowChrome_ patterns with the _ChromHMM_ emissions maximizing Pearson's correlation.\n",
    "\n",
    "However, in all the cases where no Histone Mark activity is measured, _ShallowChrome_ patterns are null (zero vectors), and no correlation coefficient would be properly defined. Here we make the following choice: by default, we match all null _ShallowChrome_ patterns with the _ChromHMM_ emission with lowest intra-pattern norm and variance.\n",
    "\n",
    "Let's find such a candidate!"
   ]
  },
  {
   "cell_type": "code",
   "execution_count": null,
   "metadata": {},
   "outputs": [],
   "source": [
    "# let's inspect intra-pattern norm and std\n",
    "\n",
    "intrapattern_devs = sorted_emissions.std(axis=0, keepdims=False)\n",
    "dev_sorter = np.argsort(intrapattern_devs)\n",
    "\n",
    "x = np.arange(1, sorted_emissions.shape[1]+1)\n",
    "states = np.asarray([description_dict[name] for name in [index[s] for s in range(1, len(index)+1)]], dtype=str)\n",
    "\n",
    "plt.figure(dpi=150, figsize=(6,2))\n",
    "plt.plot(x, intrapattern_devs[dev_sorter], '|-', linewidth=0.9, color='cornflowerblue')\n",
    "plt.plot([1], intrapattern_devs[dev_sorter][0]+0.05, 'v', color='indianred', markersize=8)\n",
    "plt.xticks(x, states[dev_sorter], rotation=90)\n",
    "plt.title('Intra-pattern standard-deviation')\n",
    "plt.show()\n",
    "plt.close()\n",
    "\n",
    "intrapattern_norms = np.linalg.norm(sorted_emissions, ord=1, axis=0)\n",
    "norm_sorter = np.argsort(intrapattern_norms)\n",
    "\n",
    "x = np.arange(1, sorted_emissions.shape[1]+1)\n",
    "states = np.asarray([description_dict[name] for name in [index[s] for s in range(1, len(index)+1)]], dtype=str)\n",
    "\n",
    "plt.figure(dpi=150, figsize=(6,2))\n",
    "plt.plot(x, intrapattern_norms[norm_sorter], '|-', linewidth=0.9, color='cornflowerblue')\n",
    "plt.plot([1], intrapattern_norms[norm_sorter][0]+0.25, 'v', color='indianred', markersize=8)\n",
    "plt.xticks(x, states[norm_sorter], rotation=90)\n",
    "plt.title('Intra-pattern norms')\n",
    "plt.show()\n",
    "plt.close()\n",
    "\n",
    "# save ChromHMM pattern with min emission norm; null ShallowChrome patterns will be matched with it\n",
    "emissions_l1_norms = np.asarray([np.linalg.norm(em, 1) for em in sorted_emissions.T])\n",
    "min_emission = np.argmin(emissions_l1_norms)"
   ]
  },
  {
   "cell_type": "markdown",
   "metadata": {},
   "source": [
    "State `Quiescent/Low` has the lowest intra-pattern norm and variance, it will always match null _ShallowChrome_ patterns."
   ]
  },
  {
   "cell_type": "markdown",
   "metadata": {},
   "source": [
    "### Computation of _ShallowChrome_ patterns over the test set"
   ]
  },
  {
   "cell_type": "markdown",
   "metadata": {},
   "source": [
    "Here we will compute _ShallowChrome_ patterns for the test set of the standard reference split `0`.\n",
    "For each epigenome/cell, we will load the best models already trained in notebook `model inspection`.\n",
    "Also, we will keep track of model logits for later validation."
   ]
  },
  {
   "cell_type": "code",
   "execution_count": null,
   "metadata": {},
   "outputs": [],
   "source": [
    "# load folders for data in best format\n",
    "ref_iter = 0  # <- std split `0`\n",
    "with open(bests_path.format(ref_iter), 'rb') as handle:\n",
    "    best_formats = pickle.load(handle)\n",
    "folders, cells = load_cell_paths(cell_list_path, data_base_path, suffix='/'+data_suffix, best_formats=best_formats)\n",
    "\n",
    "# load std split `0`\n",
    "split = load_split(split_base_path, split_suffix, ref_iter)\n",
    "\n",
    "# enforce standard (hyper)parameters\n",
    "penalty='l2'\n",
    "Cs=[+np.inf]\n",
    "random_state = 666"
   ]
  },
  {
   "cell_type": "code",
   "execution_count": null,
   "metadata": {},
   "outputs": [],
   "source": [
    "# compute patterns on test set of split 0 for each cell line\n",
    "\n",
    "patterns_by_cell = dict()\n",
    "logits_by_cell = dict()\n",
    "for c, cell in enumerate(cells):\n",
    "    \n",
    "    print '\\r\\tcell {0}...'.format(cell),\n",
    "    \n",
    "    # load data\n",
    "    folder = folders[c]\n",
    "    X = np.loadtxt(folder+X_tail, delimiter=',')\n",
    "    X_test = X[split[-1]]\n",
    "    \n",
    "    # load model\n",
    "    C = Cs[0]\n",
    "    best = best_formats[cell]\n",
    "    score_folder = score_base_path+str(cell)+'/'+str(best)+'/'\n",
    "    with open(score_folder+'model_C_'+str(C)+'_iter_'+str(ref_iter)+'.pkl', 'rb') as model_file:\n",
    "        model = pickle.load(model_file)\n",
    "\n",
    "    # extract patterns\n",
    "    _, b, psis = extract_patterns(model, X_test, collapse=False)\n",
    "    patterns_by_cell[cell] = np.abs(psis)\n",
    "    logits_by_cell[cell] = b + np.sum(psis, axis=1)\n",
    "    \n",
    "print ' done.'"
   ]
  },
  {
   "cell_type": "markdown",
   "metadata": {},
   "source": [
    "### Find best matching ChromHMM states"
   ]
  },
  {
   "cell_type": "markdown",
   "metadata": {},
   "source": [
    "Now we will compare the extracted _ShallowChrome_ patterns with _ChromHMM_ emissions to find, for each gene the best matching state/group of states."
   ]
  },
  {
   "cell_type": "code",
   "execution_count": null,
   "metadata": {
    "scrolled": true
   },
   "outputs": [],
   "source": [
    "bmus_by_cell = dict()\n",
    "for cell in cells:\n",
    "    \n",
    "    print '\\r\\tcell {0}...'.format(cell),\n",
    "    \n",
    "    patterns = patterns_by_cell[cell]\n",
    "    bmus = np.ndarray((len(patterns),))\n",
    "    correlations = np.ndarray((len(patterns), len(sorted_emissions.T)))\n",
    "    for p, pattern in enumerate(patterns):\n",
    "        \n",
    "        pattern = pattern.copy()\n",
    "        \n",
    "        if pattern.sum() == 0.0:\n",
    "            bmus[p] = min_emission\n",
    "            correlation = np.zeros((len(sorted_emissions.T),))\n",
    "            correlation[min_emission] = 1.0\n",
    "            correlations[p] = correlation\n",
    "            \n",
    "        else:\n",
    "            correlation = np.ndarray((len(sorted_emissions.T),))\n",
    "            for e, em in enumerate(sorted_emissions.T):\n",
    "                correlation[e] = rho(pattern, em)[0]\n",
    "            bmus[p] = int(np.argmax(correlation))\n",
    "            correlations[p] = correlation\n",
    "        \n",
    "    bmus_by_cell[cell] = bmus\n",
    "    \n",
    "print ' done.'"
   ]
  },
  {
   "cell_type": "markdown",
   "metadata": {},
   "source": [
    "Coarse-grain matchings for group-level analysis."
   ]
  },
  {
   "cell_type": "code",
   "execution_count": null,
   "metadata": {},
   "outputs": [],
   "source": [
    "# prepare grouping for coarse-grained analysis\n",
    "\n",
    "coarse_index = {\n",
    "    1: 'Active',\n",
    "    2: 'Bivalent',\n",
    "    3: 'Enhancers',\n",
    "    4: 'Repressed'}\n",
    "\n",
    "grouping = {\n",
    "    # Active\n",
    "    1: 1,\n",
    "    2: 1,\n",
    "    3: 1,\n",
    "    4: 1,\n",
    "    5: 1,\n",
    "    # Bivalent\n",
    "    10: 2,\n",
    "    11: 2,\n",
    "    12: 2,\n",
    "    # Enhancers\n",
    "    6: 3,\n",
    "    7: 3,\n",
    "    # Repressed\n",
    "    8: 4,\n",
    "    9: 4,\n",
    "    14: 4,\n",
    "    13: 4,\n",
    "    15: 4}\n",
    "\n",
    "# group best matching units according to membership map above\n",
    "def coarse_grain(bmus):\n",
    "    coarser = [grouping[1+int(bmu)]-1 for bmu in bmus]\n",
    "    return np.asarray(coarser)\n",
    "groups_by_cell = {cell: coarse_grain(bmus_by_cell[cell]) for cell in cells}"
   ]
  },
  {
   "cell_type": "markdown",
   "metadata": {},
   "source": [
    "### Compute group-level logit-based rankings of matched emissions"
   ]
  },
  {
   "cell_type": "markdown",
   "metadata": {},
   "source": [
    "Let's now rank _ChromHMM_ state groups based on the mean _ShallowChrome_ logits of matched patterns."
   ]
  },
  {
   "cell_type": "code",
   "execution_count": null,
   "metadata": {},
   "outputs": [],
   "source": [
    "# compute mean logit values for each group and for each cell\n",
    "mean_logits_by_cell = dict()\n",
    "for target in cells:\n",
    "    bmus = groups_by_cell[target]\n",
    "    logits = logits_by_cell[target]\n",
    "    mean_logits, _ = compute_mean_std_logits_per_state(logits, bmus, len(coarse_index))\n",
    "    mean_logits_by_cell[target] = mean_logits\n",
    "    \n",
    "# given the above, compute rankings based on logit means per group\n",
    "rank_by_cell = dict()\n",
    "for target in cells:\n",
    "    rank = np.zeros(len(coarse_index))\n",
    "    scores = mean_logits_by_cell[target]\n",
    "    arg = np.argsort(-scores)\n",
    "    for i, a in enumerate(arg):\n",
    "        if scores[a] == -np.inf:\n",
    "            rank[a] = None\n",
    "        else:\n",
    "            rank[a] = i+1\n",
    "    rank_by_cell[target] = rank\n",
    "ranks = np.vstack([rank_by_cell[target][np.newaxis, :] for target in cells])"
   ]
  },
  {
   "cell_type": "code",
   "execution_count": null,
   "metadata": {},
   "outputs": [],
   "source": [
    "# plot ranking histogram for each group\n",
    "fig = plt.figure(dpi=300)\n",
    "res = plt.hist(ranks,\n",
    "               bins=4,\n",
    "               color=['cadetblue', color_dict['Het'], color_dict['BivFlnk'], 'indianred'],\n",
    "               label=['1st', '2nd', '3rd', '4th'])\n",
    "plt.xticks(np.linspace(1.3, 3.6, 4), ['Active', 'Bivalent', 'Enhancers', 'Repressed'], rotation=0)\n",
    "ticks = np.asarray([0, 14, 28, 42, 56])\n",
    "plt.yticks(ticks, ['{:.0f}%'.format(t) for t in (100.0/56.0)*ticks])\n",
    "plt.ylabel('Rank frequency')\n",
    "plt.xlabel('Group')\n",
    "plt.legend(loc=[0.7, 0.68])\n",
    "fig.tight_layout()\n",
    "plt.savefig('./ChromHMM_rankings.pdf', format='pdf')\n",
    "plt.show()\n",
    "plt.close()"
   ]
  },
  {
   "cell_type": "markdown",
   "metadata": {},
   "source": [
    "Let's now perform finer-level analysis: ranks are computed at the level of single _ChromHMM_ states."
   ]
  },
  {
   "cell_type": "code",
   "execution_count": null,
   "metadata": {},
   "outputs": [],
   "source": [
    "# compute mean and std of logit values for each state and for each cell\n",
    "mean_logits_by_cell = dict()\n",
    "for target in cells:\n",
    "    bmus = bmus_by_cell[target]\n",
    "    logits = logits_by_cell[target]\n",
    "    mean_logits, _ = compute_mean_std_logits_per_state(logits, bmus, len(index))\n",
    "    mean_logits_by_cell[target] = mean_logits\n",
    "\n",
    "# given the above, compute rankings based on logit means per state\n",
    "rank_by_cell = dict()\n",
    "for target in cells:\n",
    "    rank = np.zeros(len(index))\n",
    "    scores = mean_logits_by_cell[target]\n",
    "    arg = np.argsort(-scores)\n",
    "    for i, a in enumerate(arg):\n",
    "        if scores[a] == -np.inf:\n",
    "            rank[a] = None\n",
    "        else:\n",
    "            rank[a] = i+1\n",
    "    rank_by_cell[target] = rank\n",
    "ranks = np.vstack([rank_by_cell[target][np.newaxis, :] for target in cells])\n",
    "\n",
    "# sort chromatin states based on their median ranking\n",
    "median_ranks = np.zeros(len(index))\n",
    "all_ranks = list()\n",
    "for state in range(ranks.shape[1]):\n",
    "    a = ranks[:,state]\n",
    "    valid = np.where(~np.isnan(a))\n",
    "    all_ranks.append(a[valid])\n",
    "    median_ranks[state] = np.median(a[valid])\n",
    "arg = np.argsort(median_ranks)"
   ]
  },
  {
   "cell_type": "code",
   "execution_count": null,
   "metadata": {},
   "outputs": [],
   "source": [
    "# plot fine-graned rank analysis\n",
    "\n",
    "fig = plt.figure(dpi=300, figsize=(7.5,5))\n",
    "box = plt.boxplot(16 - np.asarray([all_ranks[i] for i in arg]), showfliers=False)\n",
    "plt.xticks(range(1, 1+len(index)), [description_dict[index[a+1]] for a in arg], rotation=90)\n",
    "plt.yticks(range(1, 1+len(index)), ['{}'.format(16-i) for i in range(1, 1+len(index))])\n",
    "for item, line_list in box.items():\n",
    "    for l, line in enumerate(line_list):\n",
    "        if item=='medians':\n",
    "            line.set_color(colors.to_hex(color_dict[index[arg[l]+1]]))\n",
    "            if index[arg[l]+1] == 'Quies':\n",
    "                line.set_color(colors.to_hex([0.9, 0.9, 0.9]))\n",
    "            line.set_linewidth(1.5)\n",
    "        else:\n",
    "            line.set_color('grey')\n",
    "            line.set_linewidth(0.7)\n",
    "for r in range(1, 1+len(index)):\n",
    "    plt.axhline(y=r, linestyle='--', linewidth=0.3, color='lightgrey')\n",
    "plt.ylabel('Rank')\n",
    "fig.tight_layout()\n",
    "plt.savefig('./ChromHMM_rankings_fine.pdf', format='pdf')\n",
    "plt.show()\n",
    "plt.close()"
   ]
  }
 ],
 "metadata": {
  "kernelspec": {
   "display_name": "Python 2",
   "language": "python",
   "name": "python2"
  },
  "language_info": {
   "codemirror_mode": {
    "name": "ipython",
    "version": 2
   },
   "file_extension": ".py",
   "mimetype": "text/x-python",
   "name": "python",
   "nbconvert_exporter": "python",
   "pygments_lexer": "ipython2",
   "version": "2.7.15"
  }
 },
 "nbformat": 4,
 "nbformat_minor": 2
}
